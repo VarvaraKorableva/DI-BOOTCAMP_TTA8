{
 "cells": [
  {
   "cell_type": "code",
   "execution_count": 2,
   "metadata": {},
   "outputs": [],
   "source": [
    "import numpy as np"
   ]
  },
  {
   "cell_type": "code",
   "execution_count": 5,
   "metadata": {},
   "outputs": [
    {
     "data": {
      "text/plain": [
       "array([[77, 77, 15, 68, 47],\n",
       "       [75, 30, 54, 29, 53],\n",
       "       [10, 82, 85, 49, 88],\n",
       "       [45, 26, 68, 66, 91],\n",
       "       [52, 70, 50, 44, 99]])"
      ]
     },
     "execution_count": 5,
     "metadata": {},
     "output_type": "execute_result"
    }
   ],
   "source": [
    "data = np.array(np.random.randint(1, 100, size=25)).reshape(5,5)\n",
    "data[[1, 3]] = data[[3, 1]]\n",
    "data"
   ]
  },
  {
   "cell_type": "code",
   "execution_count": 6,
   "metadata": {},
   "outputs": [
    {
     "data": {
      "text/plain": [
       "array([[77, 77, 15, 68, 47],\n",
       "       [45, 26, 68, 66, 91],\n",
       "       [10, 82, 85, 49, 88],\n",
       "       [75, 30, 54, 29, 53],\n",
       "       [52, 70, 50, 44, 99]])"
      ]
     },
     "execution_count": 6,
     "metadata": {},
     "output_type": "execute_result"
    }
   ],
   "source": [
    "data[[1, 3]] = data[[3, 1]]\n",
    "data"
   ]
  },
  {
   "cell_type": "code",
   "execution_count": 7,
   "metadata": {},
   "outputs": [
    {
     "data": {
      "text/plain": [
       "array([[0.75280899, 0.75280899, 0.05617978, 0.65168539, 0.41573034],\n",
       "       [0.39325843, 0.17977528, 0.65168539, 0.62921348, 0.91011236],\n",
       "       [0.        , 0.80898876, 0.84269663, 0.43820225, 0.87640449],\n",
       "       [0.73033708, 0.2247191 , 0.49438202, 0.21348315, 0.48314607],\n",
       "       [0.47191011, 0.6741573 , 0.4494382 , 0.38202247, 1.        ]])"
      ]
     },
     "execution_count": 7,
     "metadata": {},
     "output_type": "execute_result"
    }
   ],
   "source": [
    "normalized_data = (data - np.min(data)) / (np.max(data) - np.min(data))\n",
    "normalized_data"
   ]
  },
  {
   "cell_type": "code",
   "execution_count": 17,
   "metadata": {},
   "outputs": [
    {
     "data": {
      "text/plain": [
       "array([[-0.82151187,  0.08201218,  0.77703068, -1.58603222, -0.16124429],\n",
       "       [ 1.50680011, -0.36974984,  1.02028716, -0.05699152, -0.43925169],\n",
       "       [ 0.98553623, -0.40450077, -0.82151187, -1.72503592,  1.57630196],\n",
       "       [ 0.39477051,  0.11676311,  1.26354363,  1.26354363,  0.15151403],\n",
       "       [-0.43925169, -1.20377204,  1.36779641, -0.85626279, -1.62078314]])"
      ]
     },
     "execution_count": 17,
     "metadata": {},
     "output_type": "execute_result"
    }
   ],
   "source": [
    "z_score_data = (data - np.mean(data)) / np.std(data)\n",
    "z_score_data"
   ]
  },
  {
   "cell_type": "code",
   "execution_count": 50,
   "metadata": {},
   "outputs": [
    {
     "name": "stdout",
     "output_type": "stream",
     "text": [
      "array ([76.0, 58.0, 22.0, 89.0, nan])\n",
      "array ([91.0, 59.0, 42.0, 92.0, nan])\n",
      "array ([80.0, 15.0, 62.0, 62.0, 47.0])\n",
      "array ([nan, 51.0, 55.0, 64.0, 3.0])\n",
      "array ([nan, 7.0, nan, 73.0, 39.0])\n"
     ]
    }
   ],
   "source": [
    "vector_data = np.ravel(data)\n",
    "\n",
    "split_arrays = np.array_split(vector_data, 5)\n",
    "split_arrays = [arr.tolist() for arr in split_arrays]\n",
    "\n",
    "for sub_array in split_arrays:\n",
    "    print(f\"array ({sub_array})\")\n",
    "    #print(f\"array {tuple(list(sub_array))}\")\n",
    " "
   ]
  },
  {
   "cell_type": "code",
   "execution_count": 26,
   "metadata": {},
   "outputs": [
    {
     "data": {
      "text/plain": [
       "198"
      ]
     },
     "execution_count": 26,
     "metadata": {},
     "output_type": "execute_result"
    }
   ],
   "source": [
    "vector1 = np.array([3, 5, 6, 7, 8])\n",
    "vector2 = np.array([2, 4, 6, 8, 10])\n",
    "\n",
    "dot_product = np.dot(vector1, vector2)\n",
    "dot_product"
   ]
  },
  {
   "cell_type": "code",
   "execution_count": 30,
   "metadata": {},
   "outputs": [
    {
     "data": {
      "text/plain": [
       "array([[ 69, 324, 103],\n",
       "       [ 75, 509, 131],\n",
       "       [ 42, 552, 110]])"
      ]
     },
     "execution_count": 30,
     "metadata": {},
     "output_type": "execute_result"
    }
   ],
   "source": [
    "data = np.array([[6, 5, 4, 4],\n",
    "                 [5, 7, 7, 8],\n",
    "                 [0, 10, 8, 12],\n",
    "                 [13, 14, 25, 16]])\n",
    "\n",
    "data2 = np.array([[8, 8, 8],\n",
    "                  [1, 8, 3],\n",
    "                  [4, 59, 10]])\n",
    "\n",
    "result = np.dot(data[:3, :3], data2)\n",
    "\n",
    "result"
   ]
  },
  {
   "cell_type": "code",
   "execution_count": 31,
   "metadata": {},
   "outputs": [
    {
     "data": {
      "text/plain": [
       "array([[0.5, 0. , 0. ],\n",
       "       [0. , 0.5, 0. ],\n",
       "       [0. , 0. , 0.5]])"
      ]
     },
     "execution_count": 31,
     "metadata": {},
     "output_type": "execute_result"
    }
   ],
   "source": [
    "identity_matrix = np.identity(3)\n",
    "\n",
    "scaled_matrix = identity_matrix * 2\n",
    "\n",
    "inverse_matrix = np.linalg.inv(scaled_matrix)\n",
    "\n",
    "inverse_matrix"
   ]
  },
  {
   "cell_type": "code",
   "execution_count": 33,
   "metadata": {},
   "outputs": [
    {
     "name": "stdout",
     "output_type": "stream",
     "text": [
      "Eigenvalues: [ 1.92469508e+01 -1.24695077e+00  9.34268442e-17]\n",
      "Eigenvectors: [[ 0.1937289   0.77433837  0.40824829]\n",
      " [ 0.51451855  0.07288936 -0.81649658]\n",
      " [ 0.83530819 -0.62855964  0.40824829]]\n"
     ]
    }
   ],
   "source": [
    "data = np.array([[1, 2, 3, 4],\n",
    "                 [5, 6, 7, 8],\n",
    "                 [9, 10, 11, 12],\n",
    "                 [13, 14, 15, 16]])\n",
    "\n",
    "data_3x3 = data[:3, :3]\n",
    "\n",
    "eigenvalues, eigenvectors = np.linalg.eig(data_3x3)\n",
    " \n",
    "print(\"Eigenvalues:\", eigenvalues)\n",
    "print(\"Eigenvectors:\", eigenvectors)"
   ]
  },
  {
   "cell_type": "code",
   "execution_count": 51,
   "metadata": {},
   "outputs": [
    {
     "name": "stdout",
     "output_type": "stream",
     "text": [
      "[[63. 18. 90. 44. 34.]\n",
      " [nan 62. 14. 95. nan]\n",
      " [15. 72. 78. nan 62.]\n",
      " [40. 85. 80. nan 53.]\n",
      " [nan 26. 89. 60. 41.]]\n",
      "[[1 0]\n",
      " [1 4]\n",
      " [2 3]\n",
      " [3 3]\n",
      " [4 0]]\n"
     ]
    }
   ],
   "source": [
    "data = np.array(np.random.randint(1, 100, size=25), dtype=float).reshape(5, 5)\n",
    "\n",
    "num_elements_to_replace = 5\n",
    "indices_to_replace = np.random.choice(data.size, size=num_elements_to_replace, replace=False)\n",
    "data.ravel()[indices_to_replace] = np.nan\n",
    "\n",
    "missing_value_indices = np.argwhere(np.isnan(data))\n",
    "\n",
    "print(data)\n",
    "print(missing_value_indices)"
   ]
  }
 ],
 "metadata": {
  "kernelspec": {
   "display_name": "base",
   "language": "python",
   "name": "python3"
  },
  "language_info": {
   "codemirror_mode": {
    "name": "ipython",
    "version": 3
   },
   "file_extension": ".py",
   "mimetype": "text/x-python",
   "name": "python",
   "nbconvert_exporter": "python",
   "pygments_lexer": "ipython3",
   "version": "3.11.5"
  }
 },
 "nbformat": 4,
 "nbformat_minor": 2
}
